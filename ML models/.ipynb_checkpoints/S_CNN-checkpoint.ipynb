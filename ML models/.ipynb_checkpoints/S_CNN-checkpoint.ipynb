{
 "cells": [
  {
   "cell_type": "code",
   "execution_count": 1,
   "id": "b36a1fb3",
   "metadata": {},
   "outputs": [],
   "source": [
    "# Import Libraries\n",
    "import numpy as np\n",
    "import pandas as pd\n",
    "import matplotlib.pyplot as plt\n",
    "%matplotlib inline \n",
    "\n",
    "# Path\n",
    "import os\n",
    "import random\n",
    "\n",
    "# ML libraries\n",
    "from sklearn.preprocessing import StandardScaler\n",
    "from sklearn.preprocessing import scale\n",
    "from tensorflow.keras.models import Sequential, load_model\n",
    "from tensorflow.keras.layers import Dense, Dropout, Flatten\n",
    "from tensorflow.keras.layers import Conv2D, MaxPool2D, Input, TimeDistributed\n",
    "from tensorflow.keras.optimizers import Adam\n",
    "from tensorflow.keras import backend as K, callbacks\n",
    "from tensorflow.keras.models import load_model\n",
    "from tensorflow.keras import layers, models\n",
    "from sklearn.model_selection import train_test_split\n",
    "from sklearn.metrics import accuracy_score, f1_score, mean_absolute_error\n",
    "import tensorflow as tf\n",
    "# import tensorflow.keras as keras"
   ]
  },
  {
   "cell_type": "code",
   "execution_count": 13,
   "id": "183c6f10",
   "metadata": {},
   "outputs": [
    {
     "name": "stdout",
     "output_type": "stream",
     "text": [
      "Data columns:  dict_keys(['ENX'])\n",
      "Data Lenght:  1\n",
      "DF Lenght:  1787\n",
      "Column count:  22\n"
     ]
    }
   ],
   "source": [
    "# Dictionary consist of dataframe for each index\n",
    "data = {}\n",
    "data_org = {}\n",
    "DATADIR = './hybrid_datasets/self_processed/new_data/CSV_File'\n",
    "for filename in os.listdir(DATADIR):\n",
    "    if not filename.lower().endswith(\".csv\"):\n",
    "        continue # read only the CSV files\n",
    "    filepath = os.path.join(DATADIR, filename)\n",
    "    X = pd.read_csv(filepath, index_col=\"Date\", parse_dates=True)\n",
    "    X = X.fillna(0)\n",
    "    # basic preprocessing: get the name, the classification\n",
    "    # Save the target variable as a column in dataframe for easier dropna()\n",
    "    name = X[\"Name\"][0] # All name has the same value which is the stock company name\n",
    "    del X[\"Name\"]\n",
    "    # Get df column name\n",
    "    cols = X.columns\n",
    "    X[\"Target\"] = (X[\"Close\"].pct_change().shift(-1) > 0).astype(int) # Will input 1 or 0 for up and down\n",
    "    X.dropna(inplace=True)\n",
    "    # Fit the standard scaler using the training dataset\n",
    "#     index = X.index[X.index < TRAIN_TEST_CUTOFF] # Get index until TRAIN_TEST_CUTOFF\n",
    "#     index = index[:int(len(index) * TRAIN_VALID_RATIO)] # Get train set \n",
    "#     print(\"index train set: \", index)\n",
    "    # To set all data to standard value. Formula: ((x1-mean)/standardDeviation)\n",
    "    scaler = StandardScaler().fit(X.loc[X.index, cols]) # Standardize train set\n",
    "    # Save scale transformed dataframe\n",
    "    X[cols] = scaler.transform(X[cols])\n",
    "    # save each transformed dataframe on data dictionary\n",
    "    data[name] = X\n",
    "\n",
    "print(\"Data columns: \", data.keys())\n",
    "print(\"Data Lenght: \", len(data))\n",
    "print(\"DF Lenght: \", len(data[\"ENX\"]))\n",
    "print(\"Column count: \", len(data[\"ENX\"].columns))"
   ]
  },
  {
   "cell_type": "code",
   "execution_count": 3,
   "id": "b4c591e2",
   "metadata": {},
   "outputs": [
    {
     "data": {
      "text/plain": [
       "Index(['Close', 'Volume', 'EMA10', 'EMA50', 'EMA100', 'ROC12', 'ROC24', 'AUD',\n",
       "       'CAD', 'EUR', 'GBP', 'USD', 'JPY', 'JPXGY', 'NASDAQ', 'NIKKEI', 'NYSE',\n",
       "       'SSE', 'GOLD', 'OIL', 'SILVER', 'Target'],\n",
       "      dtype='object')"
      ]
     },
     "execution_count": 3,
     "metadata": {},
     "output_type": "execute_result"
    }
   ],
   "source": [
    "data[\"ENX\"].columns"
   ]
  },
  {
   "cell_type": "code",
   "execution_count": 4,
   "id": "943ad0cc",
   "metadata": {},
   "outputs": [
    {
     "data": {
      "text/html": [
       "<div>\n",
       "<style scoped>\n",
       "    .dataframe tbody tr th:only-of-type {\n",
       "        vertical-align: middle;\n",
       "    }\n",
       "\n",
       "    .dataframe tbody tr th {\n",
       "        vertical-align: top;\n",
       "    }\n",
       "\n",
       "    .dataframe thead th {\n",
       "        text-align: right;\n",
       "    }\n",
       "</style>\n",
       "<table border=\"1\" class=\"dataframe\">\n",
       "  <thead>\n",
       "    <tr style=\"text-align: right;\">\n",
       "      <th></th>\n",
       "      <th>Residual</th>\n",
       "    </tr>\n",
       "    <tr>\n",
       "      <th>Date</th>\n",
       "      <th></th>\n",
       "    </tr>\n",
       "  </thead>\n",
       "  <tbody>\n",
       "    <tr>\n",
       "      <th>2015-06-09</th>\n",
       "      <td>0.000000</td>\n",
       "    </tr>\n",
       "    <tr>\n",
       "      <th>2015-06-10</th>\n",
       "      <td>-2.747231</td>\n",
       "    </tr>\n",
       "    <tr>\n",
       "      <th>2015-06-11</th>\n",
       "      <td>0.649389</td>\n",
       "    </tr>\n",
       "    <tr>\n",
       "      <th>2015-06-12</th>\n",
       "      <td>-1.086753</td>\n",
       "    </tr>\n",
       "    <tr>\n",
       "      <th>2015-06-15</th>\n",
       "      <td>-0.372565</td>\n",
       "    </tr>\n",
       "    <tr>\n",
       "      <th>...</th>\n",
       "      <td>...</td>\n",
       "    </tr>\n",
       "    <tr>\n",
       "      <th>2023-08-03</th>\n",
       "      <td>0.193007</td>\n",
       "    </tr>\n",
       "    <tr>\n",
       "      <th>2023-08-04</th>\n",
       "      <td>0.454664</td>\n",
       "    </tr>\n",
       "    <tr>\n",
       "      <th>2023-08-08</th>\n",
       "      <td>-0.989512</td>\n",
       "    </tr>\n",
       "    <tr>\n",
       "      <th>2023-08-09</th>\n",
       "      <td>0.226632</td>\n",
       "    </tr>\n",
       "    <tr>\n",
       "      <th>2023-08-10</th>\n",
       "      <td>0.955850</td>\n",
       "    </tr>\n",
       "  </tbody>\n",
       "</table>\n",
       "<p>1787 rows × 1 columns</p>\n",
       "</div>"
      ],
      "text/plain": [
       "            Residual\n",
       "Date                \n",
       "2015-06-09  0.000000\n",
       "2015-06-10 -2.747231\n",
       "2015-06-11  0.649389\n",
       "2015-06-12 -1.086753\n",
       "2015-06-15 -0.372565\n",
       "...              ...\n",
       "2023-08-03  0.193007\n",
       "2023-08-04  0.454664\n",
       "2023-08-08 -0.989512\n",
       "2023-08-09  0.226632\n",
       "2023-08-10  0.955850\n",
       "\n",
       "[1787 rows x 1 columns]"
      ]
     },
     "execution_count": 4,
     "metadata": {},
     "output_type": "execute_result"
    }
   ],
   "source": [
    "res_path = './hybrid_datasets/self_processed/new_data/ENX_residuals.csv'\n",
    "residuals = pd.read_csv(res_path, index_col=\"Date\", parse_dates=True)\n",
    "residuals"
   ]
  },
  {
   "cell_type": "code",
   "execution_count": 14,
   "id": "5b533a71",
   "metadata": {},
   "outputs": [
    {
     "data": {
      "text/html": [
       "<div>\n",
       "<style scoped>\n",
       "    .dataframe tbody tr th:only-of-type {\n",
       "        vertical-align: middle;\n",
       "    }\n",
       "\n",
       "    .dataframe tbody tr th {\n",
       "        vertical-align: top;\n",
       "    }\n",
       "\n",
       "    .dataframe thead th {\n",
       "        text-align: right;\n",
       "    }\n",
       "</style>\n",
       "<table border=\"1\" class=\"dataframe\">\n",
       "  <thead>\n",
       "    <tr style=\"text-align: right;\">\n",
       "      <th></th>\n",
       "      <th>Close</th>\n",
       "      <th>Volume</th>\n",
       "      <th>EMA10</th>\n",
       "      <th>EMA50</th>\n",
       "      <th>EMA100</th>\n",
       "      <th>ROC12</th>\n",
       "      <th>ROC24</th>\n",
       "      <th>AUD</th>\n",
       "      <th>CAD</th>\n",
       "      <th>EUR</th>\n",
       "      <th>...</th>\n",
       "      <th>JPXGY</th>\n",
       "      <th>NASDAQ</th>\n",
       "      <th>NIKKEI</th>\n",
       "      <th>NYSE</th>\n",
       "      <th>SSE</th>\n",
       "      <th>GOLD</th>\n",
       "      <th>OIL</th>\n",
       "      <th>SILVER</th>\n",
       "      <th>Target</th>\n",
       "      <th>Residual</th>\n",
       "    </tr>\n",
       "    <tr>\n",
       "      <th>Date</th>\n",
       "      <th></th>\n",
       "      <th></th>\n",
       "      <th></th>\n",
       "      <th></th>\n",
       "      <th></th>\n",
       "      <th></th>\n",
       "      <th></th>\n",
       "      <th></th>\n",
       "      <th></th>\n",
       "      <th></th>\n",
       "      <th></th>\n",
       "      <th></th>\n",
       "      <th></th>\n",
       "      <th></th>\n",
       "      <th></th>\n",
       "      <th></th>\n",
       "      <th></th>\n",
       "      <th></th>\n",
       "      <th></th>\n",
       "      <th></th>\n",
       "      <th></th>\n",
       "    </tr>\n",
       "  </thead>\n",
       "  <tbody>\n",
       "    <tr>\n",
       "      <th>2015-06-09</th>\n",
       "      <td>-1.461926</td>\n",
       "      <td>0.035923</td>\n",
       "      <td>-2.918350</td>\n",
       "      <td>-2.676020</td>\n",
       "      <td>-2.429864</td>\n",
       "      <td>0.066116</td>\n",
       "      <td>0.088039</td>\n",
       "      <td>-1.083675</td>\n",
       "      <td>-1.631497</td>\n",
       "      <td>0.073624</td>\n",
       "      <td>...</td>\n",
       "      <td>-0.714578</td>\n",
       "      <td>-1.200790</td>\n",
       "      <td>-0.706289</td>\n",
       "      <td>-1.055026</td>\n",
       "      <td>6.177354</td>\n",
       "      <td>-1.147266</td>\n",
       "      <td>0.016078</td>\n",
       "      <td>-0.790010</td>\n",
       "      <td>0</td>\n",
       "      <td>0.000000</td>\n",
       "    </tr>\n",
       "    <tr>\n",
       "      <th>2015-06-10</th>\n",
       "      <td>-1.463496</td>\n",
       "      <td>0.697574</td>\n",
       "      <td>-2.918350</td>\n",
       "      <td>-2.676020</td>\n",
       "      <td>-2.429864</td>\n",
       "      <td>0.066116</td>\n",
       "      <td>0.088039</td>\n",
       "      <td>-1.083675</td>\n",
       "      <td>-1.868605</td>\n",
       "      <td>0.073624</td>\n",
       "      <td>...</td>\n",
       "      <td>-0.856318</td>\n",
       "      <td>-1.181888</td>\n",
       "      <td>-0.718055</td>\n",
       "      <td>-0.987530</td>\n",
       "      <td>6.153317</td>\n",
       "      <td>-1.116420</td>\n",
       "      <td>0.086049</td>\n",
       "      <td>-0.790010</td>\n",
       "      <td>1</td>\n",
       "      <td>-2.747231</td>\n",
       "    </tr>\n",
       "    <tr>\n",
       "      <th>2015-06-11</th>\n",
       "      <td>-1.429482</td>\n",
       "      <td>-0.002529</td>\n",
       "      <td>-2.918350</td>\n",
       "      <td>-2.676020</td>\n",
       "      <td>-2.429864</td>\n",
       "      <td>0.066116</td>\n",
       "      <td>0.088039</td>\n",
       "      <td>-1.210436</td>\n",
       "      <td>-1.868605</td>\n",
       "      <td>0.073624</td>\n",
       "      <td>...</td>\n",
       "      <td>-0.827970</td>\n",
       "      <td>-1.180137</td>\n",
       "      <td>-0.638750</td>\n",
       "      <td>-0.976852</td>\n",
       "      <td>6.203219</td>\n",
       "      <td>-1.137669</td>\n",
       "      <td>0.050250</td>\n",
       "      <td>-0.790010</td>\n",
       "      <td>0</td>\n",
       "      <td>0.649389</td>\n",
       "    </tr>\n",
       "    <tr>\n",
       "      <th>2015-06-12</th>\n",
       "      <td>-1.487045</td>\n",
       "      <td>-0.275132</td>\n",
       "      <td>-2.918350</td>\n",
       "      <td>-2.676020</td>\n",
       "      <td>-2.429864</td>\n",
       "      <td>0.066116</td>\n",
       "      <td>0.088039</td>\n",
       "      <td>-1.210436</td>\n",
       "      <td>-1.868605</td>\n",
       "      <td>-0.110901</td>\n",
       "      <td>...</td>\n",
       "      <td>-0.844979</td>\n",
       "      <td>-1.189588</td>\n",
       "      <td>-0.633070</td>\n",
       "      <td>-1.010327</td>\n",
       "      <td>6.346861</td>\n",
       "      <td>-1.141782</td>\n",
       "      <td>0.006315</td>\n",
       "      <td>-0.822270</td>\n",
       "      <td>0</td>\n",
       "      <td>-1.086753</td>\n",
       "    </tr>\n",
       "    <tr>\n",
       "      <th>2015-06-15</th>\n",
       "      <td>-1.505361</td>\n",
       "      <td>-0.280921</td>\n",
       "      <td>-2.918350</td>\n",
       "      <td>-2.676020</td>\n",
       "      <td>-2.429864</td>\n",
       "      <td>0.066116</td>\n",
       "      <td>0.088039</td>\n",
       "      <td>-1.210436</td>\n",
       "      <td>-1.868605</td>\n",
       "      <td>-0.110901</td>\n",
       "      <td>...</td>\n",
       "      <td>-0.765605</td>\n",
       "      <td>-1.195946</td>\n",
       "      <td>-0.637614</td>\n",
       "      <td>-1.038952</td>\n",
       "      <td>6.015163</td>\n",
       "      <td>-1.119162</td>\n",
       "      <td>-0.017551</td>\n",
       "      <td>-0.760232</td>\n",
       "      <td>1</td>\n",
       "      <td>-0.372565</td>\n",
       "    </tr>\n",
       "    <tr>\n",
       "      <th>...</th>\n",
       "      <td>...</td>\n",
       "      <td>...</td>\n",
       "      <td>...</td>\n",
       "      <td>...</td>\n",
       "      <td>...</td>\n",
       "      <td>...</td>\n",
       "      <td>...</td>\n",
       "      <td>...</td>\n",
       "      <td>...</td>\n",
       "      <td>...</td>\n",
       "      <td>...</td>\n",
       "      <td>...</td>\n",
       "      <td>...</td>\n",
       "      <td>...</td>\n",
       "      <td>...</td>\n",
       "      <td>...</td>\n",
       "      <td>...</td>\n",
       "      <td>...</td>\n",
       "      <td>...</td>\n",
       "      <td>...</td>\n",
       "      <td>...</td>\n",
       "    </tr>\n",
       "    <tr>\n",
       "      <th>2023-08-03</th>\n",
       "      <td>0.547558</td>\n",
       "      <td>0.303524</td>\n",
       "      <td>0.497389</td>\n",
       "      <td>0.445200</td>\n",
       "      <td>0.521230</td>\n",
       "      <td>-1.291210</td>\n",
       "      <td>-0.810051</td>\n",
       "      <td>1.831827</td>\n",
       "      <td>0.502479</td>\n",
       "      <td>-0.664475</td>\n",
       "      <td>...</td>\n",
       "      <td>-0.130610</td>\n",
       "      <td>1.490911</td>\n",
       "      <td>2.135742</td>\n",
       "      <td>1.415224</td>\n",
       "      <td>0.294744</td>\n",
       "      <td>1.438258</td>\n",
       "      <td>1.177365</td>\n",
       "      <td>1.130679</td>\n",
       "      <td>1</td>\n",
       "      <td>0.193007</td>\n",
       "    </tr>\n",
       "    <tr>\n",
       "      <th>2023-08-04</th>\n",
       "      <td>0.571106</td>\n",
       "      <td>0.275397</td>\n",
       "      <td>0.511439</td>\n",
       "      <td>0.450830</td>\n",
       "      <td>0.522986</td>\n",
       "      <td>-1.163232</td>\n",
       "      <td>-0.923654</td>\n",
       "      <td>1.705066</td>\n",
       "      <td>0.739587</td>\n",
       "      <td>-0.479951</td>\n",
       "      <td>...</td>\n",
       "      <td>-0.130610</td>\n",
       "      <td>1.475722</td>\n",
       "      <td>2.143628</td>\n",
       "      <td>1.389449</td>\n",
       "      <td>0.319197</td>\n",
       "      <td>1.464305</td>\n",
       "      <td>1.246250</td>\n",
       "      <td>1.135642</td>\n",
       "      <td>0</td>\n",
       "      <td>0.454664</td>\n",
       "    </tr>\n",
       "    <tr>\n",
       "      <th>2023-08-08</th>\n",
       "      <td>0.518776</td>\n",
       "      <td>-0.054581</td>\n",
       "      <td>0.513567</td>\n",
       "      <td>0.454352</td>\n",
       "      <td>0.523819</td>\n",
       "      <td>-0.980385</td>\n",
       "      <td>-0.705427</td>\n",
       "      <td>1.705066</td>\n",
       "      <td>0.739587</td>\n",
       "      <td>-0.479951</td>\n",
       "      <td>...</td>\n",
       "      <td>0.062156</td>\n",
       "      <td>1.468224</td>\n",
       "      <td>2.187105</td>\n",
       "      <td>1.439372</td>\n",
       "      <td>0.231074</td>\n",
       "      <td>1.533878</td>\n",
       "      <td>1.251674</td>\n",
       "      <td>0.909824</td>\n",
       "      <td>1</td>\n",
       "      <td>-0.989512</td>\n",
       "    </tr>\n",
       "    <tr>\n",
       "      <th>2023-08-09</th>\n",
       "      <td>0.531858</td>\n",
       "      <td>-0.381177</td>\n",
       "      <td>0.517650</td>\n",
       "      <td>0.458208</td>\n",
       "      <td>0.524857</td>\n",
       "      <td>-0.642317</td>\n",
       "      <td>-0.507167</td>\n",
       "      <td>1.831827</td>\n",
       "      <td>0.739587</td>\n",
       "      <td>-0.479951</td>\n",
       "      <td>...</td>\n",
       "      <td>0.011130</td>\n",
       "      <td>1.419390</td>\n",
       "      <td>2.146356</td>\n",
       "      <td>1.420131</td>\n",
       "      <td>0.179310</td>\n",
       "      <td>1.502005</td>\n",
       "      <td>1.331950</td>\n",
       "      <td>0.889972</td>\n",
       "      <td>1</td>\n",
       "      <td>0.226632</td>\n",
       "    </tr>\n",
       "    <tr>\n",
       "      <th>2023-08-10</th>\n",
       "      <td>0.581572</td>\n",
       "      <td>-0.289450</td>\n",
       "      <td>0.529889</td>\n",
       "      <td>0.463706</td>\n",
       "      <td>0.526719</td>\n",
       "      <td>-0.843298</td>\n",
       "      <td>-1.186613</td>\n",
       "      <td>1.831827</td>\n",
       "      <td>0.739587</td>\n",
       "      <td>-0.479951</td>\n",
       "      <td>...</td>\n",
       "      <td>0.067826</td>\n",
       "      <td>1.424195</td>\n",
       "      <td>2.209808</td>\n",
       "      <td>1.419870</td>\n",
       "      <td>0.211627</td>\n",
       "      <td>1.496178</td>\n",
       "      <td>1.246250</td>\n",
       "      <td>0.912306</td>\n",
       "      <td>0</td>\n",
       "      <td>0.955850</td>\n",
       "    </tr>\n",
       "  </tbody>\n",
       "</table>\n",
       "<p>1787 rows × 23 columns</p>\n",
       "</div>"
      ],
      "text/plain": [
       "               Close    Volume     EMA10     EMA50    EMA100     ROC12  \\\n",
       "Date                                                                     \n",
       "2015-06-09 -1.461926  0.035923 -2.918350 -2.676020 -2.429864  0.066116   \n",
       "2015-06-10 -1.463496  0.697574 -2.918350 -2.676020 -2.429864  0.066116   \n",
       "2015-06-11 -1.429482 -0.002529 -2.918350 -2.676020 -2.429864  0.066116   \n",
       "2015-06-12 -1.487045 -0.275132 -2.918350 -2.676020 -2.429864  0.066116   \n",
       "2015-06-15 -1.505361 -0.280921 -2.918350 -2.676020 -2.429864  0.066116   \n",
       "...              ...       ...       ...       ...       ...       ...   \n",
       "2023-08-03  0.547558  0.303524  0.497389  0.445200  0.521230 -1.291210   \n",
       "2023-08-04  0.571106  0.275397  0.511439  0.450830  0.522986 -1.163232   \n",
       "2023-08-08  0.518776 -0.054581  0.513567  0.454352  0.523819 -0.980385   \n",
       "2023-08-09  0.531858 -0.381177  0.517650  0.458208  0.524857 -0.642317   \n",
       "2023-08-10  0.581572 -0.289450  0.529889  0.463706  0.526719 -0.843298   \n",
       "\n",
       "               ROC24       AUD       CAD       EUR  ...     JPXGY    NASDAQ  \\\n",
       "Date                                                ...                       \n",
       "2015-06-09  0.088039 -1.083675 -1.631497  0.073624  ... -0.714578 -1.200790   \n",
       "2015-06-10  0.088039 -1.083675 -1.868605  0.073624  ... -0.856318 -1.181888   \n",
       "2015-06-11  0.088039 -1.210436 -1.868605  0.073624  ... -0.827970 -1.180137   \n",
       "2015-06-12  0.088039 -1.210436 -1.868605 -0.110901  ... -0.844979 -1.189588   \n",
       "2015-06-15  0.088039 -1.210436 -1.868605 -0.110901  ... -0.765605 -1.195946   \n",
       "...              ...       ...       ...       ...  ...       ...       ...   \n",
       "2023-08-03 -0.810051  1.831827  0.502479 -0.664475  ... -0.130610  1.490911   \n",
       "2023-08-04 -0.923654  1.705066  0.739587 -0.479951  ... -0.130610  1.475722   \n",
       "2023-08-08 -0.705427  1.705066  0.739587 -0.479951  ...  0.062156  1.468224   \n",
       "2023-08-09 -0.507167  1.831827  0.739587 -0.479951  ...  0.011130  1.419390   \n",
       "2023-08-10 -1.186613  1.831827  0.739587 -0.479951  ...  0.067826  1.424195   \n",
       "\n",
       "              NIKKEI      NYSE       SSE      GOLD       OIL    SILVER  \\\n",
       "Date                                                                     \n",
       "2015-06-09 -0.706289 -1.055026  6.177354 -1.147266  0.016078 -0.790010   \n",
       "2015-06-10 -0.718055 -0.987530  6.153317 -1.116420  0.086049 -0.790010   \n",
       "2015-06-11 -0.638750 -0.976852  6.203219 -1.137669  0.050250 -0.790010   \n",
       "2015-06-12 -0.633070 -1.010327  6.346861 -1.141782  0.006315 -0.822270   \n",
       "2015-06-15 -0.637614 -1.038952  6.015163 -1.119162 -0.017551 -0.760232   \n",
       "...              ...       ...       ...       ...       ...       ...   \n",
       "2023-08-03  2.135742  1.415224  0.294744  1.438258  1.177365  1.130679   \n",
       "2023-08-04  2.143628  1.389449  0.319197  1.464305  1.246250  1.135642   \n",
       "2023-08-08  2.187105  1.439372  0.231074  1.533878  1.251674  0.909824   \n",
       "2023-08-09  2.146356  1.420131  0.179310  1.502005  1.331950  0.889972   \n",
       "2023-08-10  2.209808  1.419870  0.211627  1.496178  1.246250  0.912306   \n",
       "\n",
       "            Target  Residual  \n",
       "Date                          \n",
       "2015-06-09       0  0.000000  \n",
       "2015-06-10       1 -2.747231  \n",
       "2015-06-11       0  0.649389  \n",
       "2015-06-12       0 -1.086753  \n",
       "2015-06-15       1 -0.372565  \n",
       "...            ...       ...  \n",
       "2023-08-03       1  0.193007  \n",
       "2023-08-04       0  0.454664  \n",
       "2023-08-08       1 -0.989512  \n",
       "2023-08-09       1  0.226632  \n",
       "2023-08-10       0  0.955850  \n",
       "\n",
       "[1787 rows x 23 columns]"
      ]
     },
     "execution_count": 14,
     "metadata": {},
     "output_type": "execute_result"
    }
   ],
   "source": [
    "# Combine with ARIMA residuals\n",
    "data[\"ENX\"] = pd.concat([data[\"ENX\"], residuals], axis=1)\n",
    "data[\"ENX\"]"
   ]
  },
  {
   "cell_type": "code",
   "execution_count": 6,
   "id": "276a6073",
   "metadata": {},
   "outputs": [
    {
     "name": "stdout",
     "output_type": "stream",
     "text": [
      "Train date cut-off:  2021-12-10\n",
      "Index cut-off:  1429\n"
     ]
    }
   ],
   "source": [
    "# Set train test cut-off / using ENX DF as reference\n",
    "TRAIN_VALID_RATIO = 0.80 # Size of training set\n",
    "INDEX = int(len(data[\"ENX\"].index) * TRAIN_VALID_RATIO) # 1340 / 0.75 * 1787\n",
    "TRAIN_TEST_CUTOFF = str(data[\"ENX\"].index[INDEX])[:10] # '2021-07-15' # limit date for training\n",
    "\n",
    "print(\"Train date cut-off: \", TRAIN_TEST_CUTOFF)\n",
    "print(\"Index cut-off: \", INDEX)"
   ]
  },
  {
   "cell_type": "code",
   "execution_count": 7,
   "id": "f2651e72",
   "metadata": {},
   "outputs": [],
   "source": [
    "# Data Generator\n",
    "def datagen(data, seq_len, batch_size, targetcol, kind):\n",
    "    \"\"\"As a generator to produce samples for Keras model\"\"\"\n",
    "    batch = []\n",
    "    while True:\n",
    "        # Pick one dataframe from the pool\n",
    "        key = random.choice(list(data.keys())) # One filename from dataset\n",
    "        df = data[key]\n",
    "        # extract column name for features except target column and save it as an array\n",
    "        input_cols = [c for c in df.columns if c != targetcol]\n",
    "        # assign index for train set / Dataframe\n",
    "        index = df.index[df.index < TRAIN_TEST_CUTOFF]\n",
    "        # Set point of split for train and validation set / integer\n",
    "        split = int(len(index) * TRAIN_VALID_RATIO)\n",
    "        if kind == 'train':\n",
    "            index = index[:split]   # range for the training set\n",
    "        elif kind == 'valid':\n",
    "            index = index[split:]   # range for the validation set\n",
    "        # Pick one position, then clip a sequence length\n",
    "        while True:\n",
    "            t = random.choice(index)      # pick one time step / integer\n",
    "            n = (df.index == t).argmax()  # find its position in the dataframe / argmax return index where the condition is true\n",
    "            # Check if n length is greater than 0\n",
    "            if n-seq_len+1 < 0:\n",
    "                continue # can't get enough data for one sequence length\n",
    "            # Get the dataframe \n",
    "            frame = df.iloc[n-seq_len+1:n+1]\n",
    "            #              # ARRAY                      # 1 / integer\n",
    "            batch.append([frame[input_cols].values, df.loc[t, targetcol]])\n",
    "            break\n",
    "        # if we get enough for a batch, dispatch\n",
    "        if len(batch) == batch_size:\n",
    "            # Create 1 dimensional array\n",
    "            X, y = zip(*batch) # The * in a function call \"unpacks\" a list (or other iterable), making each of its elements a separate argument.\n",
    "            # Create 4 dimensional array for X, and 1 for y\n",
    "            X, y = np.expand_dims(np.array(X), 3), np.array(y)\n",
    "            # returns a generator object\n",
    "            yield X, y\n",
    "            batch = []"
   ]
  },
  {
   "cell_type": "code",
   "execution_count": 8,
   "id": "1c036789",
   "metadata": {},
   "outputs": [
    {
     "name": "stdout",
     "output_type": "stream",
     "text": [
      "2.2216041896550127\n"
     ]
    }
   ],
   "source": [
    "max_list = []\n",
    "for key, df in data.items():\n",
    "    close_max = data[key][\"Close\"].describe().loc['max']\n",
    "    max_list.append(close_max)\n",
    "    \n",
    "max_var = max(max_list)\n",
    "print(max_var)"
   ]
  },
  {
   "cell_type": "code",
   "execution_count": 9,
   "id": "4cddfdaa",
   "metadata": {},
   "outputs": [],
   "source": [
    "# Build model\n",
    "def build_model(seq_len=60, n_features=22, n_filters=(8,16,32,64,64), droprate=0.2):\n",
    "    model = Sequential()\n",
    "    # Input Layer\n",
    "    model.add(Conv2D(n_filters[0], kernel_size=(1, n_features), activation='relu', input_shape=(seq_len, n_features, 1)))\n",
    "    \n",
    "    # Convolution Layer\n",
    "    model.add(Conv2D(n_filters[1], kernel_size=(3, 1), activation='relu'))\n",
    "    model.add(MaxPool2D(pool_size=(2, 1)))\n",
    "    model.add(Conv2D(n_filters[2], kernel_size=(3, 1), activation='relu'))\n",
    "    model.add(MaxPool2D(pool_size=(2, 1)))\n",
    "    model.add(Conv2D(n_filters[3], kernel_size=(3, 1), activation='relu'))\n",
    "    model.add(MaxPool2D(pool_size=(2, 1)))\n",
    "    model.add(Conv2D(n_filters[4], kernel_size=(3, 1), activation='relu'))\n",
    "    model.add(MaxPool2D(pool_size=(2, 1), name='extracted_layer'))\n",
    "    \n",
    "    model.add(Flatten())\n",
    "    model.add(Dropout(droprate))\n",
    "\n",
    "    # Fully Connected Layer\n",
    "    model.add(Dense(1, activation='sigmoid'))\n",
    "#     model.add(Dense(max_var+2, activation='relu'))\n",
    "    return model"
   ]
  },
  {
   "cell_type": "code",
   "execution_count": 10,
   "id": "53443546",
   "metadata": {},
   "outputs": [],
   "source": [
    "# Recall = (TP/(TP+FN))\n",
    "def recall_m(y_true, y_pred):\n",
    "    true_positives = K.sum(K.round(K.clip(y_true * y_pred, 0, 1)))\n",
    "    possible_positives = K.sum(K.round(K.clip(y_true, 0, 1)))\n",
    "    recall = true_positives / (possible_positives + K.epsilon())\n",
    "    return recall\n",
    "\n",
    "# Precision = (TP/(TP+FP))\n",
    "def precision_m(y_true, y_pred):\n",
    "    true_positives = K.sum(K.round(K.clip(y_true * y_pred, 0, 1)))\n",
    "    predicted_positives = K.sum(K.round(K.clip(y_pred, 0, 1)))\n",
    "    precision = true_positives / (predicted_positives + K.epsilon())\n",
    "    return precision\n",
    "\n",
    "# F1 Score metrics\n",
    "def f1_m(y_true, y_pred):\n",
    "    precision = precision_m(y_true, y_pred)\n",
    "    recall = recall_m(y_true, y_pred)\n",
    "    return 2*((precision*recall)/(precision+recall+K.epsilon()))\n",
    "\n",
    "# Average of the F1 from positive and negative classification (F1-macro metric)\n",
    "def f1macro(y_true, y_pred):\n",
    "    f_pos = f1_m(y_true, y_pred)\n",
    "    # negative version of the data and prediction\n",
    "    f_neg = f1_m(1-y_true, 1-K.clip(y_pred,0,1))\n",
    "    return (f_pos + f_neg)/2"
   ]
  },
  {
   "cell_type": "code",
   "execution_count": 11,
   "id": "a07a7dd1",
   "metadata": {},
   "outputs": [],
   "source": [
    "# Optional\n",
    "# Checkpoints to interupt or resume model training\n",
    "checkpoint_path = \"./cp2d-{epoch}-{val_f1macro:.2f}.h5\"\n",
    "callbacks = [\n",
    "    callbacks.ModelCheckpoint(checkpoint_path,\n",
    "                    monitor='val_f1macro', mode=\"max\", verbose=0,\n",
    "                    save_best_only=True, save_weights_only=False, save_freq=\"epoch\")\n",
    "]"
   ]
  },
  {
   "cell_type": "code",
   "execution_count": null,
   "id": "860563b4",
   "metadata": {},
   "outputs": [
    {
     "name": "stdout",
     "output_type": "stream",
     "text": [
      "Epoch 1/60\n",
      "400/400 [==============================] - 52s 127ms/step - loss: 0.4768 - mse: 0.3096 - accuracy: 0.5365 - f1macro: 0.3898 - val_loss: 0.4876 - val_mse: 0.3174 - val_accuracy: 0.5272 - val_f1macro: 0.5024\n",
      "Epoch 2/60\n",
      "400/400 [==============================] - 50s 124ms/step - loss: 0.4480 - mse: 0.3893 - accuracy: 0.5584 - f1macro: 0.4925 - val_loss: 0.4605 - val_mse: 0.4464 - val_accuracy: 0.5406 - val_f1macro: 0.5124\n",
      "Epoch 3/60\n",
      "400/400 [==============================] - 50s 126ms/step - loss: 0.4368 - mse: 0.4183 - accuracy: 0.5668 - f1macro: 0.5171 - val_loss: 0.4705 - val_mse: 0.4659 - val_accuracy: 0.5306 - val_f1macro: 0.5009\n",
      "Epoch 4/60\n",
      "400/400 [==============================] - 51s 128ms/step - loss: 0.4284 - mse: 0.4138 - accuracy: 0.5764 - f1macro: 0.5250 - val_loss: 0.4772 - val_mse: 0.4691 - val_accuracy: 0.5211 - val_f1macro: 0.4939\n",
      "Epoch 5/60\n",
      "400/400 [==============================] - 52s 130ms/step - loss: 0.4235 - mse: 0.4111 - accuracy: 0.5824 - f1macro: 0.5304 - val_loss: 0.5000 - val_mse: 0.4899 - val_accuracy: 0.4939 - val_f1macro: 0.4736\n",
      "Epoch 6/60\n",
      "400/400 [==============================] - 51s 127ms/step - loss: 0.4189 - mse: 0.4081 - accuracy: 0.5868 - f1macro: 0.5358 - val_loss: 0.4787 - val_mse: 0.4694 - val_accuracy: 0.5142 - val_f1macro: 0.4989\n",
      "Epoch 7/60\n",
      "400/400 [==============================] - 50s 126ms/step - loss: 0.4177 - mse: 0.4082 - accuracy: 0.5869 - f1macro: 0.5362 - val_loss: 0.4768 - val_mse: 0.4672 - val_accuracy: 0.5200 - val_f1macro: 0.4982\n",
      "Epoch 8/60\n",
      "400/400 [==============================] - 50s 125ms/step - loss: 0.4156 - mse: 0.4070 - accuracy: 0.5888 - f1macro: 0.5407 - val_loss: 0.4720 - val_mse: 0.4634 - val_accuracy: 0.5322 - val_f1macro: 0.5079\n",
      "Epoch 9/60\n",
      "400/400 [==============================] - 51s 127ms/step - loss: 0.4101 - mse: 0.4024 - accuracy: 0.5951 - f1macro: 0.5465 - val_loss: 0.4823 - val_mse: 0.4755 - val_accuracy: 0.5192 - val_f1macro: 0.5016\n",
      "Epoch 10/60\n",
      "400/400 [==============================] - 50s 127ms/step - loss: 0.4070 - mse: 0.4008 - accuracy: 0.5973 - f1macro: 0.5493 - val_loss: 0.4697 - val_mse: 0.4621 - val_accuracy: 0.5350 - val_f1macro: 0.5093\n",
      "Epoch 11/60\n",
      "400/400 [==============================] - 50s 126ms/step - loss: 0.4090 - mse: 0.4031 - accuracy: 0.5949 - f1macro: 0.5460 - val_loss: 0.4805 - val_mse: 0.4730 - val_accuracy: 0.5211 - val_f1macro: 0.5007\n",
      "Epoch 12/60\n",
      "400/400 [==============================] - 50s 126ms/step - loss: 0.4037 - mse: 0.3983 - accuracy: 0.6001 - f1macro: 0.5512 - val_loss: 0.4867 - val_mse: 0.4804 - val_accuracy: 0.5153 - val_f1macro: 0.4915\n",
      "Epoch 13/60\n",
      "400/400 [==============================] - 50s 125ms/step - loss: 0.4047 - mse: 0.4000 - accuracy: 0.5992 - f1macro: 0.5513 - val_loss: 0.4545 - val_mse: 0.4479 - val_accuracy: 0.5425 - val_f1macro: 0.5161\n",
      "Epoch 14/60\n",
      "400/400 [==============================] - 51s 127ms/step - loss: 0.4047 - mse: 0.4005 - accuracy: 0.5986 - f1macro: 0.5512 - val_loss: 0.4905 - val_mse: 0.4833 - val_accuracy: 0.5050 - val_f1macro: 0.4847\n",
      "Epoch 15/60\n",
      "400/400 [==============================] - 51s 128ms/step - loss: 0.4014 - mse: 0.3975 - accuracy: 0.6016 - f1macro: 0.5539 - val_loss: 0.4806 - val_mse: 0.4750 - val_accuracy: 0.5167 - val_f1macro: 0.4943\n",
      "Epoch 16/60\n",
      "400/400 [==============================] - 50s 125ms/step - loss: 0.3975 - mse: 0.3943 - accuracy: 0.6052 - f1macro: 0.5565 - val_loss: 0.4694 - val_mse: 0.4662 - val_accuracy: 0.5336 - val_f1macro: 0.5059\n",
      "Epoch 17/60\n",
      "400/400 [==============================] - 50s 126ms/step - loss: 0.3984 - mse: 0.3955 - accuracy: 0.6043 - f1macro: 0.5568 - val_loss: 0.4806 - val_mse: 0.4746 - val_accuracy: 0.5197 - val_f1macro: 0.4982\n",
      "Epoch 18/60\n",
      "279/400 [===================>..........] - ETA: 12s - loss: 0.3985 - mse: 0.3959 - accuracy: 0.6038 - f1macro: 0.5564"
     ]
    }
   ],
   "source": [
    "seq_len    = 60\n",
    "batch_size = 120\n",
    "n_epochs   = 60\n",
    "n_features = 22\n",
    "\n",
    "# Model \n",
    "model = build_model(seq_len, n_features)\n",
    "model.compile(optimizer=Adam(learning_rate=0.0001), loss=\"mae\", metrics=[\"mse\",\"accuracy\", f1macro], )\n",
    "History = model.fit(datagen(data, seq_len, batch_size, \"Target\", \"train\"),\n",
    "          validation_data=datagen(data, seq_len, batch_size, \"Target\", \"valid\"),\n",
    "          epochs=n_epochs, steps_per_epoch=400, validation_steps=30, verbose=1)"
   ]
  },
  {
   "cell_type": "code",
   "execution_count": 21,
   "id": "65640f7e",
   "metadata": {},
   "outputs": [
    {
     "name": "stdout",
     "output_type": "stream",
     "text": [
      "Model: \"sequential_4\"\n",
      "_________________________________________________________________\n",
      " Layer (type)                Output Shape              Param #   \n",
      "=================================================================\n",
      " conv2d_16 (Conv2D)          (None, 120, 1, 8)         184       \n",
      "                                                                 \n",
      " conv2d_17 (Conv2D)          (None, 118, 1, 16)        400       \n",
      "                                                                 \n",
      " max_pooling2d_8 (MaxPoolin  (None, 59, 1, 16)         0         \n",
      " g2D)                                                            \n",
      "                                                                 \n",
      " conv2d_18 (Conv2D)          (None, 57, 1, 32)         1568      \n",
      "                                                                 \n",
      " max_pooling2d_9 (MaxPoolin  (None, 28, 1, 32)         0         \n",
      " g2D)                                                            \n",
      "                                                                 \n",
      " conv2d_19 (Conv2D)          (None, 26, 1, 32)         3104      \n",
      "                                                                 \n",
      " extracted_layer (MaxPoolin  (None, 13, 1, 32)         0         \n",
      " g2D)                                                            \n",
      "                                                                 \n",
      " flatten_4 (Flatten)         (None, 416)               0         \n",
      "                                                                 \n",
      " dropout_4 (Dropout)         (None, 416)               0         \n",
      "                                                                 \n",
      " dense_4 (Dense)             (None, 1)                 417       \n",
      "                                                                 \n",
      "=================================================================\n",
      "Total params: 5673 (22.16 KB)\n",
      "Trainable params: 5673 (22.16 KB)\n",
      "Non-trainable params: 0 (0.00 Byte)\n",
      "_________________________________________________________________\n"
     ]
    }
   ],
   "source": [
    "model.summary()"
   ]
  },
  {
   "cell_type": "code",
   "execution_count": 22,
   "id": "8ddbbb28",
   "metadata": {},
   "outputs": [
    {
     "data": {
      "image/png": "[encoded data removed]",
      "text/plain": [
       "<Figure size 640x480 with 1 Axes>"
      ]
     },
     "metadata": {},
     "output_type": "display_data"
    },
    {
     "name": "stdout",
     "output_type": "stream",
     "text": [
      "The loss value is:  0.3829745650291443\n",
      "The val loss value is:  0.44334304332733154\n"
     ]
    }
   ],
   "source": [
    "plt.plot(History.history['loss'])\n",
    "plt.plot(History.history['val_loss'])\n",
    "plt.title('Model Loss')\n",
    "plt.ylabel('Loss')\n",
    "plt.xlabel('Epochs')\n",
    "plt.legend(['train', 'test'])\n",
    "plt.show()\n",
    "\n",
    "print('The loss value is: ', History.history['loss'][-1])\n",
    "print('The val loss value is: ', History.history['val_loss'][-1])"
   ]
  },
  {
   "cell_type": "code",
   "execution_count": 23,
   "id": "4bd531cb",
   "metadata": {},
   "outputs": [
    {
     "data": {
      "image/png": "[encoded data removed]",
      "text/plain": [
       "<Figure size 640x480 with 1 Axes>"
      ]
     },
     "metadata": {},
     "output_type": "display_data"
    },
    {
     "name": "stdout",
     "output_type": "stream",
     "text": [
      "The accuracy of the model is:  62 %\n",
      "The val accuracy of the model is:  56 %\n"
     ]
    }
   ],
   "source": [
    "plt.plot(History.history['accuracy'])\n",
    "plt.plot(History.history['val_accuracy'])\n",
    "plt.title('Model Accuracy')\n",
    "plt.ylabel('Accuracy')\n",
    "plt.xlabel('Epochs')\n",
    "plt.legend(['train', 'test'])\n",
    "plt.show()\n",
    "\n",
    "print('The accuracy of the model is: ', int(History.history['accuracy'][-1] * 100), '%')\n",
    "print('The val accuracy of the model is: ', int(History.history['val_accuracy'][-1] * 100), '%')"
   ]
  },
  {
   "cell_type": "code",
   "execution_count": 24,
   "id": "38213589",
   "metadata": {},
   "outputs": [
    {
     "data": {
      "image/png": "[encoded data removed]",
      "text/plain": [
       "<Figure size 640x480 with 1 Axes>"
      ]
     },
     "metadata": {},
     "output_type": "display_data"
    },
    {
     "name": "stdout",
     "output_type": "stream",
     "text": [
      "The train mse of the model is:  0.3650079667568207\n",
      "The val mse of the model is:  0.4324337840080261\n"
     ]
    }
   ],
   "source": [
    "plt.plot(History.history['mse'], label='train')\n",
    "plt.plot(History.history['val_mse'], label='test')\n",
    "plt.title('MSE')\n",
    "plt.xlabel(\"epoch\")\n",
    "plt.ylabel(\"Loss\")\n",
    "plt.legend()\n",
    "plt.show()\n",
    "\n",
    "print('The train mse of the model is: ', History.history['mse'][-1])\n",
    "print('The val mse of the model is: ', History.history['val_mse'][-1])"
   ]
  },
  {
   "cell_type": "code",
   "execution_count": 25,
   "id": "29748ae9",
   "metadata": {},
   "outputs": [
    {
     "data": {
      "image/png": "[encoded data removed]",
      "text/plain": [
       "<Figure size 640x480 with 1 Axes>"
      ]
     },
     "metadata": {},
     "output_type": "display_data"
    },
    {
     "name": "stdout",
     "output_type": "stream",
     "text": [
      "The train f1macro of the model is:  0.6171499490737915\n",
      "The val f1macro of the model is:  0.5125125050544739\n"
     ]
    }
   ],
   "source": [
    "plt.plot(History.history['f1macro'], label='train')\n",
    "plt.plot(History.history['val_f1macro'], label='test')\n",
    "plt.title('F1Macro')\n",
    "plt.xlabel(\"epoch\")\n",
    "plt.ylabel(\"Loss\")\n",
    "plt.legend()\n",
    "plt.show()\n",
    "\n",
    "print('The train f1macro of the model is: ', History.history['f1macro'][-1])\n",
    "print('The val f1macro of the model is: ', History.history['val_f1macro'][-1])"
   ]
  },
  {
   "cell_type": "code",
   "execution_count": 13,
   "id": "a8ba8711",
   "metadata": {},
   "outputs": [
    {
     "ename": "KeyError",
     "evalue": "'mae'",
     "output_type": "error",
     "traceback": [
      "\u001b[1;31m---------------------------------------------------------------------------\u001b[0m",
      "\u001b[1;31mKeyError\u001b[0m                                  Traceback (most recent call last)",
      "Cell \u001b[1;32mIn[13], line 1\u001b[0m\n\u001b[1;32m----> 1\u001b[0m plt\u001b[38;5;241m.\u001b[39mplot(History\u001b[38;5;241m.\u001b[39mhistory[\u001b[38;5;124m'\u001b[39m\u001b[38;5;124mmae\u001b[39m\u001b[38;5;124m'\u001b[39m], label\u001b[38;5;241m=\u001b[39m\u001b[38;5;124m'\u001b[39m\u001b[38;5;124mtrain mae\u001b[39m\u001b[38;5;124m'\u001b[39m)\n\u001b[0;32m      2\u001b[0m plt\u001b[38;5;241m.\u001b[39mplot(History\u001b[38;5;241m.\u001b[39mhistory[\u001b[38;5;124m'\u001b[39m\u001b[38;5;124mval_mae\u001b[39m\u001b[38;5;124m'\u001b[39m], label\u001b[38;5;241m=\u001b[39m\u001b[38;5;124m'\u001b[39m\u001b[38;5;124mval mae\u001b[39m\u001b[38;5;124m'\u001b[39m)\n\u001b[0;32m      3\u001b[0m plt\u001b[38;5;241m.\u001b[39mxlabel(\u001b[38;5;124m\"\u001b[39m\u001b[38;5;124mepoch\u001b[39m\u001b[38;5;124m\"\u001b[39m)\n",
      "\u001b[1;31mKeyError\u001b[0m: 'mae'"
     ]
    }
   ],
   "source": [
    "plt.plot(History.history['mae'], label='train mae')\n",
    "plt.plot(History.history['val_mae'], label='val mae')\n",
    "plt.title('MAE')\n",
    "plt.xlabel(\"epoch\")\n",
    "plt.ylabel(\"Loss\")\n",
    "plt.legend()\n",
    "plt.show()\n",
    "\n",
    "print('The train mae of the model is: ', int(History.history['mae'][-1] * 100), '%')\n",
    "print('The val mae of the model is: ', int(History.history['val_mae'][-1] * 100), '%')"
   ]
  },
  {
   "cell_type": "code",
   "execution_count": 24,
   "id": "f2754f15",
   "metadata": {},
   "outputs": [
    {
     "name": "stderr",
     "output_type": "stream",
     "text": [
      "C:\\Users\\Windows 10\\anaconda3\\Lib\\site-packages\\keras\\src\\engine\\training.py:3000: UserWarning: You are saving your model as an HDF5 file via `model.save()`. This file format is considered legacy. We recommend using instead the native Keras format, e.g. `model.save('my_model.keras')`.\n",
      "  saving_api.save_model(\n"
     ]
    }
   ],
   "source": [
    "model.save('./model_SCNNv1.h5')"
   ]
  },
  {
   "cell_type": "code",
   "execution_count": 49,
   "id": "81d257b8",
   "metadata": {},
   "outputs": [
    {
     "name": "stdout",
     "output_type": "stream",
     "text": [
      "56/56 [==============================] - 0s 2ms/step\n"
     ]
    }
   ],
   "source": [
    "def testgen(data, seq_len, targetcol):\n",
    "    \"Return array of all test samples\"\n",
    "    batch = []\n",
    "    for key, df in data.items():\n",
    "        input_cols = [c for c in df.columns if c != targetcol]\n",
    "        # find the start of test sample\n",
    "        t = df.index[df.index >= TRAIN_TEST_CUTOFF][0]\n",
    "        n = (df.index == t).argmax()\n",
    "        # extract sample using a sliding window\n",
    "        for i in range(n+1, len(df)+1):\n",
    "            frame = df.iloc[i-seq_len:i]\n",
    "            batch.append([frame[input_cols].values, frame[targetcol][-1]])\n",
    "    X, y = zip(*batch)\n",
    "    return np.expand_dims(np.array(X),3), np.array(y)\n",
    "\n",
    "# Prepare test data\n",
    "test_data, test_target = testgen(data, seq_len, \"Target\")\n",
    "\n",
    "# Test the model\n",
    "test_out = model.predict(test_data)\n",
    "# # test_pred = (test_out > 0.5).astype(int)\n",
    "# print(\"accuracy:\", accuracy_score(test_out, test_target))\n",
    "# print(\"MAE:\", mean_absolute_error(test_out, test_target))\n",
    "# print(\"F1:\", f1_score(test_out, test_target))"
   ]
  },
  {
   "cell_type": "code",
   "execution_count": 50,
   "id": "59056836",
   "metadata": {},
   "outputs": [
    {
     "data": {
      "text/plain": [
       "(1790, 4)"
      ]
     },
     "execution_count": 50,
     "metadata": {},
     "output_type": "execute_result"
    }
   ],
   "source": [
    "test_out.shape"
   ]
  },
  {
   "cell_type": "code",
   "execution_count": 51,
   "id": "6c1d6866",
   "metadata": {},
   "outputs": [
    {
     "data": {
      "text/plain": [
       "array([0., 0., 0., 0.], dtype=float32)"
      ]
     },
     "execution_count": 51,
     "metadata": {},
     "output_type": "execute_result"
    }
   ],
   "source": [
    "test_out[1000]"
   ]
  },
  {
   "cell_type": "code",
   "execution_count": 52,
   "id": "99bc5b36",
   "metadata": {},
   "outputs": [
    {
     "data": {
      "text/plain": [
       "(array([0.], dtype=float32), array([4], dtype=int64))"
      ]
     },
     "execution_count": 52,
     "metadata": {},
     "output_type": "execute_result"
    }
   ],
   "source": [
    "np.unique(test_out[100],return_counts=True)"
   ]
  },
  {
   "cell_type": "code",
   "execution_count": 28,
   "id": "92d3a731",
   "metadata": {},
   "outputs": [
    {
     "data": {
      "text/plain": [
       "(1790,)"
      ]
     },
     "execution_count": 28,
     "metadata": {},
     "output_type": "execute_result"
    }
   ],
   "source": [
    "test_target.shape"
   ]
  },
  {
   "cell_type": "code",
   "execution_count": 29,
   "id": "6fa688b7",
   "metadata": {},
   "outputs": [
    {
     "data": {
      "text/plain": [
       "array([-0.01207612, -0.00345722, -0.00297361, ..., -0.00835138,\n",
       "       -0.00494691,  0.00310372])"
      ]
     },
     "execution_count": 29,
     "metadata": {},
     "output_type": "execute_result"
    }
   ],
   "source": [
    "test_target"
   ]
  },
  {
   "cell_type": "code",
   "execution_count": null,
   "id": "4407eeeb",
   "metadata": {},
   "outputs": [],
   "source": [
    "from sklearn.preprocessing import StandardScaler\n",
    "\n",
    "# Create a StandardScaler instance and fit it to your original data\n",
    "scaler = StandardScaler()\n",
    "scaler.fit(data_orig[\"ENX\"])\n",
    "\n",
    "denormalized_forecast = scaler.inverse_transform(np.array(extracted_features_test).reshape(-1, 60))"
   ]
  }
 ],
 "metadata": {
  "kernelspec": {
   "display_name": "Python 3 (ipykernel)",
   "language": "python",
   "name": "python3"
  },
  "language_info": {
   "codemirror_mode": {
    "name": "ipython",
    "version": 3
   },
   "file_extension": ".py",
   "mimetype": "text/x-python",
   "name": "python",
   "nbconvert_exporter": "python",
   "pygments_lexer": "ipython3",
   "version": "3.9.12"
  }
 },
 "nbformat": 4,
 "nbformat_minor": 5
}
